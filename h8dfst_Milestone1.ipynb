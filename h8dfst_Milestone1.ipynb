{
 "cells": [
  {
   "cell_type": "markdown",
   "id": "3824afc4",
   "metadata": {},
   "source": [
    "## Perkenalan"
   ]
  },
  {
   "cell_type": "markdown",
   "id": "edbb255f",
   "metadata": {
    "ExecuteTime": {
     "end_time": "2021-07-20T15:03:53.392162Z",
     "start_time": "2021-07-20T15:03:53.355262Z"
    }
   },
   "source": [
    "<b>Name: </b>Rohmad <br/>\n",
    "<b>Type: </b>Milestone 1 <br/>\n",
    "<b>Dataset: </b> The growth of supermarkets in most populated cities are increasing and market competitions are also high. The dataset is one of the historical sales of supermarket company which has recorded in 3 different branches for 3 months data.<br/>\n",
    "https://www.kaggle.com/aungpyaeap/supermarket-sales <br/>\n",
    "<b>Objective: </b> 1. Does the difference between member and non-member customers affect gross income? <br/>\n",
    "2. Does the difference between male and female customers affect gross income?"
   ]
  },
  {
   "cell_type": "markdown",
   "id": "6b669a2b",
   "metadata": {},
   "source": [
    "## Import Module"
   ]
  },
  {
   "cell_type": "code",
   "execution_count": 28,
   "id": "22a7b6a2",
   "metadata": {
    "ExecuteTime": {
     "end_time": "2021-07-26T17:55:38.907943Z",
     "start_time": "2021-07-26T17:55:38.889991Z"
    }
   },
   "outputs": [],
   "source": [
    "import pandas as pd\n",
    "import numpy as np\n",
    "import calendar\n",
    "import matplotlib.pyplot as plt\n",
    "import seaborn as sns\n",
    "import scipy.stats as stats\n",
    "from scipy.stats import norm\n",
    "from scipy.stats import kurtosis\n",
    "from numpy import percentile\n",
    "\n",
    "%matplotlib inline"
   ]
  },
  {
   "cell_type": "markdown",
   "id": "0e23e6af",
   "metadata": {},
   "source": [
    "## Data Loading"
   ]
  },
  {
   "cell_type": "code",
   "execution_count": 18,
   "id": "73e0ea24",
   "metadata": {
    "ExecuteTime": {
     "end_time": "2021-07-26T17:47:27.560151Z",
     "start_time": "2021-07-26T17:47:27.537211Z"
    }
   },
   "outputs": [],
   "source": [
    "df_raw = pd.read_csv('./supermarket_sales.csv')"
   ]
  },
  {
   "cell_type": "code",
   "execution_count": 3,
   "id": "5a4135dd",
   "metadata": {
    "ExecuteTime": {
     "end_time": "2021-07-26T10:12:29.188059Z",
     "start_time": "2021-07-26T10:12:29.036195Z"
    }
   },
   "outputs": [
    {
     "name": "stdout",
     "output_type": "stream",
     "text": [
      "(1000, 17)\n"
     ]
    },
    {
     "data": {
      "text/html": [
       "<div>\n",
       "<style scoped>\n",
       "    .dataframe tbody tr th:only-of-type {\n",
       "        vertical-align: middle;\n",
       "    }\n",
       "\n",
       "    .dataframe tbody tr th {\n",
       "        vertical-align: top;\n",
       "    }\n",
       "\n",
       "    .dataframe thead th {\n",
       "        text-align: right;\n",
       "    }\n",
       "</style>\n",
       "<table border=\"1\" class=\"dataframe\">\n",
       "  <thead>\n",
       "    <tr style=\"text-align: right;\">\n",
       "      <th></th>\n",
       "      <th>Invoice ID</th>\n",
       "      <th>Branch</th>\n",
       "      <th>City</th>\n",
       "      <th>Customer type</th>\n",
       "      <th>Gender</th>\n",
       "      <th>Product line</th>\n",
       "      <th>Unit price</th>\n",
       "      <th>Quantity</th>\n",
       "      <th>Tax 5%</th>\n",
       "      <th>Total</th>\n",
       "      <th>Date</th>\n",
       "      <th>Time</th>\n",
       "      <th>Payment</th>\n",
       "      <th>cogs</th>\n",
       "      <th>gross margin percentage</th>\n",
       "      <th>gross income</th>\n",
       "      <th>Rating</th>\n",
       "    </tr>\n",
       "  </thead>\n",
       "  <tbody>\n",
       "    <tr>\n",
       "      <th>0</th>\n",
       "      <td>750-67-8428</td>\n",
       "      <td>A</td>\n",
       "      <td>Yangon</td>\n",
       "      <td>Member</td>\n",
       "      <td>Female</td>\n",
       "      <td>Health and beauty</td>\n",
       "      <td>74.69</td>\n",
       "      <td>7</td>\n",
       "      <td>26.1415</td>\n",
       "      <td>548.9715</td>\n",
       "      <td>1/5/2019</td>\n",
       "      <td>13:08</td>\n",
       "      <td>Ewallet</td>\n",
       "      <td>522.83</td>\n",
       "      <td>4.761905</td>\n",
       "      <td>26.1415</td>\n",
       "      <td>9.1</td>\n",
       "    </tr>\n",
       "    <tr>\n",
       "      <th>1</th>\n",
       "      <td>226-31-3081</td>\n",
       "      <td>C</td>\n",
       "      <td>Naypyitaw</td>\n",
       "      <td>Normal</td>\n",
       "      <td>Female</td>\n",
       "      <td>Electronic accessories</td>\n",
       "      <td>15.28</td>\n",
       "      <td>5</td>\n",
       "      <td>3.8200</td>\n",
       "      <td>80.2200</td>\n",
       "      <td>3/8/2019</td>\n",
       "      <td>10:29</td>\n",
       "      <td>Cash</td>\n",
       "      <td>76.40</td>\n",
       "      <td>4.761905</td>\n",
       "      <td>3.8200</td>\n",
       "      <td>9.6</td>\n",
       "    </tr>\n",
       "    <tr>\n",
       "      <th>2</th>\n",
       "      <td>631-41-3108</td>\n",
       "      <td>A</td>\n",
       "      <td>Yangon</td>\n",
       "      <td>Normal</td>\n",
       "      <td>Male</td>\n",
       "      <td>Home and lifestyle</td>\n",
       "      <td>46.33</td>\n",
       "      <td>7</td>\n",
       "      <td>16.2155</td>\n",
       "      <td>340.5255</td>\n",
       "      <td>3/3/2019</td>\n",
       "      <td>13:23</td>\n",
       "      <td>Credit card</td>\n",
       "      <td>324.31</td>\n",
       "      <td>4.761905</td>\n",
       "      <td>16.2155</td>\n",
       "      <td>7.4</td>\n",
       "    </tr>\n",
       "    <tr>\n",
       "      <th>3</th>\n",
       "      <td>123-19-1176</td>\n",
       "      <td>A</td>\n",
       "      <td>Yangon</td>\n",
       "      <td>Member</td>\n",
       "      <td>Male</td>\n",
       "      <td>Health and beauty</td>\n",
       "      <td>58.22</td>\n",
       "      <td>8</td>\n",
       "      <td>23.2880</td>\n",
       "      <td>489.0480</td>\n",
       "      <td>1/27/2019</td>\n",
       "      <td>20:33</td>\n",
       "      <td>Ewallet</td>\n",
       "      <td>465.76</td>\n",
       "      <td>4.761905</td>\n",
       "      <td>23.2880</td>\n",
       "      <td>8.4</td>\n",
       "    </tr>\n",
       "    <tr>\n",
       "      <th>4</th>\n",
       "      <td>373-73-7910</td>\n",
       "      <td>A</td>\n",
       "      <td>Yangon</td>\n",
       "      <td>Normal</td>\n",
       "      <td>Male</td>\n",
       "      <td>Sports and travel</td>\n",
       "      <td>86.31</td>\n",
       "      <td>7</td>\n",
       "      <td>30.2085</td>\n",
       "      <td>634.3785</td>\n",
       "      <td>2/8/2019</td>\n",
       "      <td>10:37</td>\n",
       "      <td>Ewallet</td>\n",
       "      <td>604.17</td>\n",
       "      <td>4.761905</td>\n",
       "      <td>30.2085</td>\n",
       "      <td>5.3</td>\n",
       "    </tr>\n",
       "  </tbody>\n",
       "</table>\n",
       "</div>"
      ],
      "text/plain": [
       "    Invoice ID Branch       City Customer type  Gender  \\\n",
       "0  750-67-8428      A     Yangon        Member  Female   \n",
       "1  226-31-3081      C  Naypyitaw        Normal  Female   \n",
       "2  631-41-3108      A     Yangon        Normal    Male   \n",
       "3  123-19-1176      A     Yangon        Member    Male   \n",
       "4  373-73-7910      A     Yangon        Normal    Male   \n",
       "\n",
       "             Product line  Unit price  Quantity   Tax 5%     Total       Date  \\\n",
       "0       Health and beauty       74.69         7  26.1415  548.9715   1/5/2019   \n",
       "1  Electronic accessories       15.28         5   3.8200   80.2200   3/8/2019   \n",
       "2      Home and lifestyle       46.33         7  16.2155  340.5255   3/3/2019   \n",
       "3       Health and beauty       58.22         8  23.2880  489.0480  1/27/2019   \n",
       "4       Sports and travel       86.31         7  30.2085  634.3785   2/8/2019   \n",
       "\n",
       "    Time      Payment    cogs  gross margin percentage  gross income  Rating  \n",
       "0  13:08      Ewallet  522.83                 4.761905       26.1415     9.1  \n",
       "1  10:29         Cash   76.40                 4.761905        3.8200     9.6  \n",
       "2  13:23  Credit card  324.31                 4.761905       16.2155     7.4  \n",
       "3  20:33      Ewallet  465.76                 4.761905       23.2880     8.4  \n",
       "4  10:37      Ewallet  604.17                 4.761905       30.2085     5.3  "
      ]
     },
     "execution_count": 3,
     "metadata": {},
     "output_type": "execute_result"
    }
   ],
   "source": [
    "print(df_raw.shape)\n",
    "df_raw.head()"
   ]
  },
  {
   "cell_type": "code",
   "execution_count": 4,
   "id": "f05f6569",
   "metadata": {
    "ExecuteTime": {
     "end_time": "2021-07-26T10:12:29.219485Z",
     "start_time": "2021-07-26T10:12:29.192048Z"
    }
   },
   "outputs": [
    {
     "name": "stdout",
     "output_type": "stream",
     "text": [
      "<class 'pandas.core.frame.DataFrame'>\n",
      "RangeIndex: 1000 entries, 0 to 999\n",
      "Data columns (total 17 columns):\n",
      " #   Column                   Non-Null Count  Dtype  \n",
      "---  ------                   --------------  -----  \n",
      " 0   Invoice ID               1000 non-null   object \n",
      " 1   Branch                   1000 non-null   object \n",
      " 2   City                     1000 non-null   object \n",
      " 3   Customer type            1000 non-null   object \n",
      " 4   Gender                   1000 non-null   object \n",
      " 5   Product line             1000 non-null   object \n",
      " 6   Unit price               1000 non-null   float64\n",
      " 7   Quantity                 1000 non-null   int64  \n",
      " 8   Tax 5%                   1000 non-null   float64\n",
      " 9   Total                    1000 non-null   float64\n",
      " 10  Date                     1000 non-null   object \n",
      " 11  Time                     1000 non-null   object \n",
      " 12  Payment                  1000 non-null   object \n",
      " 13  cogs                     1000 non-null   float64\n",
      " 14  gross margin percentage  1000 non-null   float64\n",
      " 15  gross income             1000 non-null   float64\n",
      " 16  Rating                   1000 non-null   float64\n",
      "dtypes: float64(7), int64(1), object(9)\n",
      "memory usage: 97.7+ KB\n"
     ]
    }
   ],
   "source": [
    "df_raw.info()"
   ]
  },
  {
   "cell_type": "code",
   "execution_count": 5,
   "id": "74d1f4b2",
   "metadata": {
    "ExecuteTime": {
     "end_time": "2021-07-26T10:12:29.362612Z",
     "start_time": "2021-07-26T10:12:29.223477Z"
    }
   },
   "outputs": [
    {
     "data": {
      "text/html": [
       "<div>\n",
       "<style scoped>\n",
       "    .dataframe tbody tr th:only-of-type {\n",
       "        vertical-align: middle;\n",
       "    }\n",
       "\n",
       "    .dataframe tbody tr th {\n",
       "        vertical-align: top;\n",
       "    }\n",
       "\n",
       "    .dataframe thead th {\n",
       "        text-align: right;\n",
       "    }\n",
       "</style>\n",
       "<table border=\"1\" class=\"dataframe\">\n",
       "  <thead>\n",
       "    <tr style=\"text-align: right;\">\n",
       "      <th></th>\n",
       "      <th>Unit price</th>\n",
       "      <th>Quantity</th>\n",
       "      <th>Tax 5%</th>\n",
       "      <th>Total</th>\n",
       "      <th>cogs</th>\n",
       "      <th>gross margin percentage</th>\n",
       "      <th>gross income</th>\n",
       "      <th>Rating</th>\n",
       "    </tr>\n",
       "  </thead>\n",
       "  <tbody>\n",
       "    <tr>\n",
       "      <th>count</th>\n",
       "      <td>1000.000000</td>\n",
       "      <td>1000.000000</td>\n",
       "      <td>1000.000000</td>\n",
       "      <td>1000.000000</td>\n",
       "      <td>1000.00000</td>\n",
       "      <td>1000.000000</td>\n",
       "      <td>1000.000000</td>\n",
       "      <td>1000.00000</td>\n",
       "    </tr>\n",
       "    <tr>\n",
       "      <th>mean</th>\n",
       "      <td>55.672130</td>\n",
       "      <td>5.510000</td>\n",
       "      <td>15.379369</td>\n",
       "      <td>322.966749</td>\n",
       "      <td>307.58738</td>\n",
       "      <td>4.761905</td>\n",
       "      <td>15.379369</td>\n",
       "      <td>6.97270</td>\n",
       "    </tr>\n",
       "    <tr>\n",
       "      <th>std</th>\n",
       "      <td>26.494628</td>\n",
       "      <td>2.923431</td>\n",
       "      <td>11.708825</td>\n",
       "      <td>245.885335</td>\n",
       "      <td>234.17651</td>\n",
       "      <td>0.000000</td>\n",
       "      <td>11.708825</td>\n",
       "      <td>1.71858</td>\n",
       "    </tr>\n",
       "    <tr>\n",
       "      <th>min</th>\n",
       "      <td>10.080000</td>\n",
       "      <td>1.000000</td>\n",
       "      <td>0.508500</td>\n",
       "      <td>10.678500</td>\n",
       "      <td>10.17000</td>\n",
       "      <td>4.761905</td>\n",
       "      <td>0.508500</td>\n",
       "      <td>4.00000</td>\n",
       "    </tr>\n",
       "    <tr>\n",
       "      <th>25%</th>\n",
       "      <td>32.875000</td>\n",
       "      <td>3.000000</td>\n",
       "      <td>5.924875</td>\n",
       "      <td>124.422375</td>\n",
       "      <td>118.49750</td>\n",
       "      <td>4.761905</td>\n",
       "      <td>5.924875</td>\n",
       "      <td>5.50000</td>\n",
       "    </tr>\n",
       "    <tr>\n",
       "      <th>50%</th>\n",
       "      <td>55.230000</td>\n",
       "      <td>5.000000</td>\n",
       "      <td>12.088000</td>\n",
       "      <td>253.848000</td>\n",
       "      <td>241.76000</td>\n",
       "      <td>4.761905</td>\n",
       "      <td>12.088000</td>\n",
       "      <td>7.00000</td>\n",
       "    </tr>\n",
       "    <tr>\n",
       "      <th>75%</th>\n",
       "      <td>77.935000</td>\n",
       "      <td>8.000000</td>\n",
       "      <td>22.445250</td>\n",
       "      <td>471.350250</td>\n",
       "      <td>448.90500</td>\n",
       "      <td>4.761905</td>\n",
       "      <td>22.445250</td>\n",
       "      <td>8.50000</td>\n",
       "    </tr>\n",
       "    <tr>\n",
       "      <th>max</th>\n",
       "      <td>99.960000</td>\n",
       "      <td>10.000000</td>\n",
       "      <td>49.650000</td>\n",
       "      <td>1042.650000</td>\n",
       "      <td>993.00000</td>\n",
       "      <td>4.761905</td>\n",
       "      <td>49.650000</td>\n",
       "      <td>10.00000</td>\n",
       "    </tr>\n",
       "  </tbody>\n",
       "</table>\n",
       "</div>"
      ],
      "text/plain": [
       "        Unit price     Quantity       Tax 5%        Total        cogs  \\\n",
       "count  1000.000000  1000.000000  1000.000000  1000.000000  1000.00000   \n",
       "mean     55.672130     5.510000    15.379369   322.966749   307.58738   \n",
       "std      26.494628     2.923431    11.708825   245.885335   234.17651   \n",
       "min      10.080000     1.000000     0.508500    10.678500    10.17000   \n",
       "25%      32.875000     3.000000     5.924875   124.422375   118.49750   \n",
       "50%      55.230000     5.000000    12.088000   253.848000   241.76000   \n",
       "75%      77.935000     8.000000    22.445250   471.350250   448.90500   \n",
       "max      99.960000    10.000000    49.650000  1042.650000   993.00000   \n",
       "\n",
       "       gross margin percentage  gross income      Rating  \n",
       "count              1000.000000   1000.000000  1000.00000  \n",
       "mean                  4.761905     15.379369     6.97270  \n",
       "std                   0.000000     11.708825     1.71858  \n",
       "min                   4.761905      0.508500     4.00000  \n",
       "25%                   4.761905      5.924875     5.50000  \n",
       "50%                   4.761905     12.088000     7.00000  \n",
       "75%                   4.761905     22.445250     8.50000  \n",
       "max                   4.761905     49.650000    10.00000  "
      ]
     },
     "execution_count": 5,
     "metadata": {},
     "output_type": "execute_result"
    }
   ],
   "source": [
    "df_raw.describe()"
   ]
  },
  {
   "cell_type": "markdown",
   "id": "93f94fd2",
   "metadata": {},
   "source": [
    "## Data Cleaning"
   ]
  },
  {
   "cell_type": "markdown",
   "id": "e8a729c1",
   "metadata": {},
   "source": [
    "##### Rename Column name"
   ]
  },
  {
   "cell_type": "code",
   "execution_count": 19,
   "id": "53015e2b",
   "metadata": {
    "ExecuteTime": {
     "end_time": "2021-07-26T17:47:36.666869Z",
     "start_time": "2021-07-26T17:47:36.638912Z"
    }
   },
   "outputs": [],
   "source": [
    "df_raw.rename(\n",
    "    columns={\n",
    "        'Invoice ID': 'invoice_id',\n",
    "        'Branch': 'branch',\n",
    "        'City': 'city',\n",
    "        'Customer type': 'customer_type',\n",
    "        'Gender': 'gender',\n",
    "        'Product line': 'product_line',\n",
    "        'Unit price': 'unit_price',\n",
    "        'Quantity': 'qty',\n",
    "        'Tax 5%': 'tax_5%',\n",
    "        'Total': 'total',\n",
    "        'Date': 'date',\n",
    "        'Time': 'time',\n",
    "        'Payment': 'payment',\n",
    "        'gross margin percentage': 'gross_margin_perc',\n",
    "        'gross income': 'gross_inc',\n",
    "        'Rating': 'rating'\n",
    "    }, inplace= True)"
   ]
  },
  {
   "cell_type": "code",
   "execution_count": 7,
   "id": "77095247",
   "metadata": {
    "ExecuteTime": {
     "end_time": "2021-07-26T10:12:29.440404Z",
     "start_time": "2021-07-26T10:12:29.381560Z"
    }
   },
   "outputs": [
    {
     "data": {
      "text/plain": [
       "invoice_id           0\n",
       "branch               0\n",
       "city                 0\n",
       "customer_type        0\n",
       "gender               0\n",
       "product_line         0\n",
       "unit_price           0\n",
       "qty                  0\n",
       "tax_5%               0\n",
       "total                0\n",
       "date                 0\n",
       "time                 0\n",
       "payment              0\n",
       "cogs                 0\n",
       "gross_margin_perc    0\n",
       "gross_inc            0\n",
       "rating               0\n",
       "dtype: int64"
      ]
     },
     "execution_count": 7,
     "metadata": {},
     "output_type": "execute_result"
    }
   ],
   "source": [
    "df_raw.isna().sum()"
   ]
  },
  {
   "cell_type": "markdown",
   "id": "8684a40d",
   "metadata": {},
   "source": [
    "#### Adding column and formating date to month"
   ]
  },
  {
   "cell_type": "code",
   "execution_count": 20,
   "id": "ff7b5b97",
   "metadata": {
    "ExecuteTime": {
     "end_time": "2021-07-26T17:47:42.744903Z",
     "start_time": "2021-07-26T17:47:42.398011Z"
    }
   },
   "outputs": [
    {
     "data": {
      "text/html": [
       "<div>\n",
       "<style scoped>\n",
       "    .dataframe tbody tr th:only-of-type {\n",
       "        vertical-align: middle;\n",
       "    }\n",
       "\n",
       "    .dataframe tbody tr th {\n",
       "        vertical-align: top;\n",
       "    }\n",
       "\n",
       "    .dataframe thead th {\n",
       "        text-align: right;\n",
       "    }\n",
       "</style>\n",
       "<table border=\"1\" class=\"dataframe\">\n",
       "  <thead>\n",
       "    <tr style=\"text-align: right;\">\n",
       "      <th></th>\n",
       "      <th>invoice_id</th>\n",
       "      <th>branch</th>\n",
       "      <th>city</th>\n",
       "      <th>customer_type</th>\n",
       "      <th>gender</th>\n",
       "      <th>product_line</th>\n",
       "      <th>unit_price</th>\n",
       "      <th>qty</th>\n",
       "      <th>tax_5%</th>\n",
       "      <th>total</th>\n",
       "      <th>date</th>\n",
       "      <th>time</th>\n",
       "      <th>payment</th>\n",
       "      <th>cogs</th>\n",
       "      <th>gross_margin_perc</th>\n",
       "      <th>gross_inc</th>\n",
       "      <th>rating</th>\n",
       "      <th>month</th>\n",
       "    </tr>\n",
       "  </thead>\n",
       "  <tbody>\n",
       "    <tr>\n",
       "      <th>0</th>\n",
       "      <td>750-67-8428</td>\n",
       "      <td>A</td>\n",
       "      <td>Yangon</td>\n",
       "      <td>Member</td>\n",
       "      <td>Female</td>\n",
       "      <td>Health and beauty</td>\n",
       "      <td>74.69</td>\n",
       "      <td>7</td>\n",
       "      <td>26.1415</td>\n",
       "      <td>548.9715</td>\n",
       "      <td>1/5/2019</td>\n",
       "      <td>13:08</td>\n",
       "      <td>Ewallet</td>\n",
       "      <td>522.83</td>\n",
       "      <td>4.761905</td>\n",
       "      <td>26.1415</td>\n",
       "      <td>9.1</td>\n",
       "      <td>1</td>\n",
       "    </tr>\n",
       "    <tr>\n",
       "      <th>1</th>\n",
       "      <td>226-31-3081</td>\n",
       "      <td>C</td>\n",
       "      <td>Naypyitaw</td>\n",
       "      <td>Normal</td>\n",
       "      <td>Female</td>\n",
       "      <td>Electronic accessories</td>\n",
       "      <td>15.28</td>\n",
       "      <td>5</td>\n",
       "      <td>3.8200</td>\n",
       "      <td>80.2200</td>\n",
       "      <td>3/8/2019</td>\n",
       "      <td>10:29</td>\n",
       "      <td>Cash</td>\n",
       "      <td>76.40</td>\n",
       "      <td>4.761905</td>\n",
       "      <td>3.8200</td>\n",
       "      <td>9.6</td>\n",
       "      <td>3</td>\n",
       "    </tr>\n",
       "    <tr>\n",
       "      <th>2</th>\n",
       "      <td>631-41-3108</td>\n",
       "      <td>A</td>\n",
       "      <td>Yangon</td>\n",
       "      <td>Normal</td>\n",
       "      <td>Male</td>\n",
       "      <td>Home and lifestyle</td>\n",
       "      <td>46.33</td>\n",
       "      <td>7</td>\n",
       "      <td>16.2155</td>\n",
       "      <td>340.5255</td>\n",
       "      <td>3/3/2019</td>\n",
       "      <td>13:23</td>\n",
       "      <td>Credit card</td>\n",
       "      <td>324.31</td>\n",
       "      <td>4.761905</td>\n",
       "      <td>16.2155</td>\n",
       "      <td>7.4</td>\n",
       "      <td>3</td>\n",
       "    </tr>\n",
       "    <tr>\n",
       "      <th>3</th>\n",
       "      <td>123-19-1176</td>\n",
       "      <td>A</td>\n",
       "      <td>Yangon</td>\n",
       "      <td>Member</td>\n",
       "      <td>Male</td>\n",
       "      <td>Health and beauty</td>\n",
       "      <td>58.22</td>\n",
       "      <td>8</td>\n",
       "      <td>23.2880</td>\n",
       "      <td>489.0480</td>\n",
       "      <td>1/27/2019</td>\n",
       "      <td>20:33</td>\n",
       "      <td>Ewallet</td>\n",
       "      <td>465.76</td>\n",
       "      <td>4.761905</td>\n",
       "      <td>23.2880</td>\n",
       "      <td>8.4</td>\n",
       "      <td>1</td>\n",
       "    </tr>\n",
       "    <tr>\n",
       "      <th>4</th>\n",
       "      <td>373-73-7910</td>\n",
       "      <td>A</td>\n",
       "      <td>Yangon</td>\n",
       "      <td>Normal</td>\n",
       "      <td>Male</td>\n",
       "      <td>Sports and travel</td>\n",
       "      <td>86.31</td>\n",
       "      <td>7</td>\n",
       "      <td>30.2085</td>\n",
       "      <td>634.3785</td>\n",
       "      <td>2/8/2019</td>\n",
       "      <td>10:37</td>\n",
       "      <td>Ewallet</td>\n",
       "      <td>604.17</td>\n",
       "      <td>4.761905</td>\n",
       "      <td>30.2085</td>\n",
       "      <td>5.3</td>\n",
       "      <td>2</td>\n",
       "    </tr>\n",
       "    <tr>\n",
       "      <th>...</th>\n",
       "      <td>...</td>\n",
       "      <td>...</td>\n",
       "      <td>...</td>\n",
       "      <td>...</td>\n",
       "      <td>...</td>\n",
       "      <td>...</td>\n",
       "      <td>...</td>\n",
       "      <td>...</td>\n",
       "      <td>...</td>\n",
       "      <td>...</td>\n",
       "      <td>...</td>\n",
       "      <td>...</td>\n",
       "      <td>...</td>\n",
       "      <td>...</td>\n",
       "      <td>...</td>\n",
       "      <td>...</td>\n",
       "      <td>...</td>\n",
       "      <td>...</td>\n",
       "    </tr>\n",
       "    <tr>\n",
       "      <th>995</th>\n",
       "      <td>233-67-5758</td>\n",
       "      <td>C</td>\n",
       "      <td>Naypyitaw</td>\n",
       "      <td>Normal</td>\n",
       "      <td>Male</td>\n",
       "      <td>Health and beauty</td>\n",
       "      <td>40.35</td>\n",
       "      <td>1</td>\n",
       "      <td>2.0175</td>\n",
       "      <td>42.3675</td>\n",
       "      <td>1/29/2019</td>\n",
       "      <td>13:46</td>\n",
       "      <td>Ewallet</td>\n",
       "      <td>40.35</td>\n",
       "      <td>4.761905</td>\n",
       "      <td>2.0175</td>\n",
       "      <td>6.2</td>\n",
       "      <td>1</td>\n",
       "    </tr>\n",
       "    <tr>\n",
       "      <th>996</th>\n",
       "      <td>303-96-2227</td>\n",
       "      <td>B</td>\n",
       "      <td>Mandalay</td>\n",
       "      <td>Normal</td>\n",
       "      <td>Female</td>\n",
       "      <td>Home and lifestyle</td>\n",
       "      <td>97.38</td>\n",
       "      <td>10</td>\n",
       "      <td>48.6900</td>\n",
       "      <td>1022.4900</td>\n",
       "      <td>3/2/2019</td>\n",
       "      <td>17:16</td>\n",
       "      <td>Ewallet</td>\n",
       "      <td>973.80</td>\n",
       "      <td>4.761905</td>\n",
       "      <td>48.6900</td>\n",
       "      <td>4.4</td>\n",
       "      <td>3</td>\n",
       "    </tr>\n",
       "    <tr>\n",
       "      <th>997</th>\n",
       "      <td>727-02-1313</td>\n",
       "      <td>A</td>\n",
       "      <td>Yangon</td>\n",
       "      <td>Member</td>\n",
       "      <td>Male</td>\n",
       "      <td>Food and beverages</td>\n",
       "      <td>31.84</td>\n",
       "      <td>1</td>\n",
       "      <td>1.5920</td>\n",
       "      <td>33.4320</td>\n",
       "      <td>2/9/2019</td>\n",
       "      <td>13:22</td>\n",
       "      <td>Cash</td>\n",
       "      <td>31.84</td>\n",
       "      <td>4.761905</td>\n",
       "      <td>1.5920</td>\n",
       "      <td>7.7</td>\n",
       "      <td>2</td>\n",
       "    </tr>\n",
       "    <tr>\n",
       "      <th>998</th>\n",
       "      <td>347-56-2442</td>\n",
       "      <td>A</td>\n",
       "      <td>Yangon</td>\n",
       "      <td>Normal</td>\n",
       "      <td>Male</td>\n",
       "      <td>Home and lifestyle</td>\n",
       "      <td>65.82</td>\n",
       "      <td>1</td>\n",
       "      <td>3.2910</td>\n",
       "      <td>69.1110</td>\n",
       "      <td>2/22/2019</td>\n",
       "      <td>15:33</td>\n",
       "      <td>Cash</td>\n",
       "      <td>65.82</td>\n",
       "      <td>4.761905</td>\n",
       "      <td>3.2910</td>\n",
       "      <td>4.1</td>\n",
       "      <td>2</td>\n",
       "    </tr>\n",
       "    <tr>\n",
       "      <th>999</th>\n",
       "      <td>849-09-3807</td>\n",
       "      <td>A</td>\n",
       "      <td>Yangon</td>\n",
       "      <td>Member</td>\n",
       "      <td>Female</td>\n",
       "      <td>Fashion accessories</td>\n",
       "      <td>88.34</td>\n",
       "      <td>7</td>\n",
       "      <td>30.9190</td>\n",
       "      <td>649.2990</td>\n",
       "      <td>2/18/2019</td>\n",
       "      <td>13:28</td>\n",
       "      <td>Cash</td>\n",
       "      <td>618.38</td>\n",
       "      <td>4.761905</td>\n",
       "      <td>30.9190</td>\n",
       "      <td>6.6</td>\n",
       "      <td>2</td>\n",
       "    </tr>\n",
       "  </tbody>\n",
       "</table>\n",
       "<p>1000 rows × 18 columns</p>\n",
       "</div>"
      ],
      "text/plain": [
       "      invoice_id branch       city customer_type  gender  \\\n",
       "0    750-67-8428      A     Yangon        Member  Female   \n",
       "1    226-31-3081      C  Naypyitaw        Normal  Female   \n",
       "2    631-41-3108      A     Yangon        Normal    Male   \n",
       "3    123-19-1176      A     Yangon        Member    Male   \n",
       "4    373-73-7910      A     Yangon        Normal    Male   \n",
       "..           ...    ...        ...           ...     ...   \n",
       "995  233-67-5758      C  Naypyitaw        Normal    Male   \n",
       "996  303-96-2227      B   Mandalay        Normal  Female   \n",
       "997  727-02-1313      A     Yangon        Member    Male   \n",
       "998  347-56-2442      A     Yangon        Normal    Male   \n",
       "999  849-09-3807      A     Yangon        Member  Female   \n",
       "\n",
       "               product_line  unit_price  qty   tax_5%      total       date  \\\n",
       "0         Health and beauty       74.69    7  26.1415   548.9715   1/5/2019   \n",
       "1    Electronic accessories       15.28    5   3.8200    80.2200   3/8/2019   \n",
       "2        Home and lifestyle       46.33    7  16.2155   340.5255   3/3/2019   \n",
       "3         Health and beauty       58.22    8  23.2880   489.0480  1/27/2019   \n",
       "4         Sports and travel       86.31    7  30.2085   634.3785   2/8/2019   \n",
       "..                      ...         ...  ...      ...        ...        ...   \n",
       "995       Health and beauty       40.35    1   2.0175    42.3675  1/29/2019   \n",
       "996      Home and lifestyle       97.38   10  48.6900  1022.4900   3/2/2019   \n",
       "997      Food and beverages       31.84    1   1.5920    33.4320   2/9/2019   \n",
       "998      Home and lifestyle       65.82    1   3.2910    69.1110  2/22/2019   \n",
       "999     Fashion accessories       88.34    7  30.9190   649.2990  2/18/2019   \n",
       "\n",
       "      time      payment    cogs  gross_margin_perc  gross_inc  rating  month  \n",
       "0    13:08      Ewallet  522.83           4.761905    26.1415     9.1      1  \n",
       "1    10:29         Cash   76.40           4.761905     3.8200     9.6      3  \n",
       "2    13:23  Credit card  324.31           4.761905    16.2155     7.4      3  \n",
       "3    20:33      Ewallet  465.76           4.761905    23.2880     8.4      1  \n",
       "4    10:37      Ewallet  604.17           4.761905    30.2085     5.3      2  \n",
       "..     ...          ...     ...                ...        ...     ...    ...  \n",
       "995  13:46      Ewallet   40.35           4.761905     2.0175     6.2      1  \n",
       "996  17:16      Ewallet  973.80           4.761905    48.6900     4.4      3  \n",
       "997  13:22         Cash   31.84           4.761905     1.5920     7.7      2  \n",
       "998  15:33         Cash   65.82           4.761905     3.2910     4.1      2  \n",
       "999  13:28         Cash  618.38           4.761905    30.9190     6.6      2  \n",
       "\n",
       "[1000 rows x 18 columns]"
      ]
     },
     "execution_count": 20,
     "metadata": {},
     "output_type": "execute_result"
    }
   ],
   "source": [
    "df_raw['month'] = pd.DatetimeIndex(df_raw['date']).month\n",
    "df_raw['month'] = df_raw['month'].apply(lambda x: calendar.month_abbr[x])\n",
    "df_raw"
   ]
  },
  {
   "cell_type": "markdown",
   "id": "22b2cc09",
   "metadata": {},
   "source": [
    "### Preprocessing"
   ]
  },
  {
   "cell_type": "markdown",
   "id": "9cadbf74",
   "metadata": {},
   "source": [
    "##### Display normal distribution or not"
   ]
  },
  {
   "cell_type": "code",
   "execution_count": 8,
   "id": "15f98fbe",
   "metadata": {
    "ExecuteTime": {
     "end_time": "2021-07-26T10:12:29.930459Z",
     "start_time": "2021-07-26T10:12:29.443396Z"
    }
   },
   "outputs": [
    {
     "data": {
      "text/plain": [
       "<matplotlib.axes._subplots.AxesSubplot at 0x122b7a90>"
      ]
     },
     "execution_count": 8,
     "metadata": {},
     "output_type": "execute_result"
    },
    {
     "data": {
      "image/png": "[encoded data removed]",
      "text/plain": [
       "<Figure size 432x288 with 1 Axes>"
      ]
     },
     "metadata": {
      "needs_background": "light"
     },
     "output_type": "display_data"
    }
   ],
   "source": [
    "df_raw['gross_inc'].plot.hist(bins=20, density=True)"
   ]
  },
  {
   "cell_type": "markdown",
   "id": "12b57048",
   "metadata": {},
   "source": [
    "It can be seen that the distribution is not normal, there is an anomaly in the usd_goal_real, then we will detect for outliers below"
   ]
  },
  {
   "cell_type": "markdown",
   "id": "85f834e9",
   "metadata": {},
   "source": [
    "### Outlier Detection"
   ]
  },
  {
   "cell_type": "markdown",
   "id": "052d86d7",
   "metadata": {},
   "source": [
    "##### Finding the observations for each quartile as well as the minimum and maximum observed values from the data sample."
   ]
  },
  {
   "cell_type": "code",
   "execution_count": 9,
   "id": "79da314b",
   "metadata": {
    "ExecuteTime": {
     "end_time": "2021-07-26T10:12:29.961375Z",
     "start_time": "2021-07-26T10:12:29.939433Z"
    }
   },
   "outputs": [
    {
     "name": "stdout",
     "output_type": "stream",
     "text": [
      "[ 5.924875 12.088    22.44525 ]\n"
     ]
    }
   ],
   "source": [
    "quartiles = np.percentile(df_raw['gross_inc'], [25, 50, 75])\n",
    "print(quartiles)"
   ]
  },
  {
   "cell_type": "code",
   "execution_count": 10,
   "id": "010fd733",
   "metadata": {
    "ExecuteTime": {
     "end_time": "2021-07-26T10:12:30.009246Z",
     "start_time": "2021-07-26T10:12:29.970350Z"
    }
   },
   "outputs": [
    {
     "name": "stdout",
     "output_type": "stream",
     "text": [
      "0.5085\n",
      "49.65\n",
      "Min: 0.508\n",
      "Q1: 5.925\n",
      "Median: 12.088\n",
      "Q3: 22.445\n",
      "Max: 49.650\n"
     ]
    }
   ],
   "source": [
    "data_min, data_max = df_raw['gross_inc'].min(), df_raw['gross_inc'].max()\n",
    "print(data_min)\n",
    "print(data_max)\n",
    "# print 5-number summary\n",
    "print('Min: %.3f' % data_min)\n",
    "print('Q1: %.3f' % quartiles[0])\n",
    "print('Median: %.3f' % quartiles[1])\n",
    "print('Q3: %.3f' % quartiles[2])\n",
    "print('Max: %.3f' % data_max)"
   ]
  },
  {
   "cell_type": "code",
   "execution_count": 11,
   "id": "191addb4",
   "metadata": {
    "ExecuteTime": {
     "end_time": "2021-07-26T10:12:30.215116Z",
     "start_time": "2021-07-26T10:12:30.014234Z"
    },
    "scrolled": true
   },
   "outputs": [
    {
     "data": {
      "image/png": "[encoded data removed]",
      "text/plain": [
       "<Figure size 432x288 with 1 Axes>"
      ]
     },
     "metadata": {
      "needs_background": "light"
     },
     "output_type": "display_data"
    }
   ],
   "source": [
    "plt.boxplot(df_raw['gross_inc'],\n",
    "            labels=['Data'],\n",
    "            showfliers=True,\n",
    "            vert=False,\n",
    "            flierprops={\n",
    "                'markerfacecolor': 'r',\n",
    "                'marker': 'd'\n",
    "            })\n",
    "plt.title('Outlier Detection')\n",
    "plt.xlabel('gros_inc')\n",
    "plt.ylabel('')\n",
    "plt.show()"
   ]
  },
  {
   "cell_type": "markdown",
   "id": "b476eb71",
   "metadata": {},
   "source": [
    "##### Using Tukey's rule for Outlier Detection\n",
    "##### q3+1.5∗IQR"
   ]
  },
  {
   "cell_type": "code",
   "execution_count": 12,
   "id": "20b13ae5",
   "metadata": {
    "ExecuteTime": {
     "end_time": "2021-07-26T10:12:30.231072Z",
     "start_time": "2021-07-26T10:12:30.218108Z"
    }
   },
   "outputs": [
    {
     "data": {
      "text/plain": [
       "47.22581249999999"
      ]
     },
     "execution_count": 12,
     "metadata": {},
     "output_type": "execute_result"
    }
   ],
   "source": [
    "out_abv = quartiles[2]+1.5*(quartiles[2]-quartiles[0])\n",
    "out_abv"
   ]
  },
  {
   "cell_type": "markdown",
   "id": "3eec90ed",
   "metadata": {},
   "source": [
    "#### Remove Outlier 1\n",
    "Remove outlier where usd_real_goal above 47.225"
   ]
  },
  {
   "cell_type": "code",
   "execution_count": 29,
   "id": "165eb784",
   "metadata": {
    "ExecuteTime": {
     "end_time": "2021-07-26T17:55:50.763865Z",
     "start_time": "2021-07-26T17:55:50.674107Z"
    }
   },
   "outputs": [
    {
     "data": {
      "text/html": [
       "<div>\n",
       "<style scoped>\n",
       "    .dataframe tbody tr th:only-of-type {\n",
       "        vertical-align: middle;\n",
       "    }\n",
       "\n",
       "    .dataframe tbody tr th {\n",
       "        vertical-align: top;\n",
       "    }\n",
       "\n",
       "    .dataframe thead th {\n",
       "        text-align: right;\n",
       "    }\n",
       "</style>\n",
       "<table border=\"1\" class=\"dataframe\">\n",
       "  <thead>\n",
       "    <tr style=\"text-align: right;\">\n",
       "      <th></th>\n",
       "      <th>invoice_id</th>\n",
       "      <th>branch</th>\n",
       "      <th>city</th>\n",
       "      <th>customer_type</th>\n",
       "      <th>gender</th>\n",
       "      <th>product_line</th>\n",
       "      <th>unit_price</th>\n",
       "      <th>qty</th>\n",
       "      <th>tax_5%</th>\n",
       "      <th>total</th>\n",
       "      <th>date</th>\n",
       "      <th>time</th>\n",
       "      <th>payment</th>\n",
       "      <th>cogs</th>\n",
       "      <th>gross_margin_perc</th>\n",
       "      <th>gross_inc</th>\n",
       "      <th>rating</th>\n",
       "      <th>month</th>\n",
       "    </tr>\n",
       "  </thead>\n",
       "  <tbody>\n",
       "    <tr>\n",
       "      <th>0</th>\n",
       "      <td>750-67-8428</td>\n",
       "      <td>A</td>\n",
       "      <td>Yangon</td>\n",
       "      <td>Member</td>\n",
       "      <td>Female</td>\n",
       "      <td>Health and beauty</td>\n",
       "      <td>74.69</td>\n",
       "      <td>7</td>\n",
       "      <td>26.1415</td>\n",
       "      <td>548.9715</td>\n",
       "      <td>1/5/2019</td>\n",
       "      <td>13:08</td>\n",
       "      <td>Ewallet</td>\n",
       "      <td>522.83</td>\n",
       "      <td>4.761905</td>\n",
       "      <td>26.1415</td>\n",
       "      <td>9.1</td>\n",
       "      <td>Jan</td>\n",
       "    </tr>\n",
       "    <tr>\n",
       "      <th>1</th>\n",
       "      <td>226-31-3081</td>\n",
       "      <td>C</td>\n",
       "      <td>Naypyitaw</td>\n",
       "      <td>Normal</td>\n",
       "      <td>Female</td>\n",
       "      <td>Electronic accessories</td>\n",
       "      <td>15.28</td>\n",
       "      <td>5</td>\n",
       "      <td>3.8200</td>\n",
       "      <td>80.2200</td>\n",
       "      <td>3/8/2019</td>\n",
       "      <td>10:29</td>\n",
       "      <td>Cash</td>\n",
       "      <td>76.40</td>\n",
       "      <td>4.761905</td>\n",
       "      <td>3.8200</td>\n",
       "      <td>9.6</td>\n",
       "      <td>Mar</td>\n",
       "    </tr>\n",
       "    <tr>\n",
       "      <th>2</th>\n",
       "      <td>631-41-3108</td>\n",
       "      <td>A</td>\n",
       "      <td>Yangon</td>\n",
       "      <td>Normal</td>\n",
       "      <td>Male</td>\n",
       "      <td>Home and lifestyle</td>\n",
       "      <td>46.33</td>\n",
       "      <td>7</td>\n",
       "      <td>16.2155</td>\n",
       "      <td>340.5255</td>\n",
       "      <td>3/3/2019</td>\n",
       "      <td>13:23</td>\n",
       "      <td>Credit card</td>\n",
       "      <td>324.31</td>\n",
       "      <td>4.761905</td>\n",
       "      <td>16.2155</td>\n",
       "      <td>7.4</td>\n",
       "      <td>Mar</td>\n",
       "    </tr>\n",
       "    <tr>\n",
       "      <th>3</th>\n",
       "      <td>123-19-1176</td>\n",
       "      <td>A</td>\n",
       "      <td>Yangon</td>\n",
       "      <td>Member</td>\n",
       "      <td>Male</td>\n",
       "      <td>Health and beauty</td>\n",
       "      <td>58.22</td>\n",
       "      <td>8</td>\n",
       "      <td>23.2880</td>\n",
       "      <td>489.0480</td>\n",
       "      <td>1/27/2019</td>\n",
       "      <td>20:33</td>\n",
       "      <td>Ewallet</td>\n",
       "      <td>465.76</td>\n",
       "      <td>4.761905</td>\n",
       "      <td>23.2880</td>\n",
       "      <td>8.4</td>\n",
       "      <td>Jan</td>\n",
       "    </tr>\n",
       "    <tr>\n",
       "      <th>4</th>\n",
       "      <td>373-73-7910</td>\n",
       "      <td>A</td>\n",
       "      <td>Yangon</td>\n",
       "      <td>Normal</td>\n",
       "      <td>Male</td>\n",
       "      <td>Sports and travel</td>\n",
       "      <td>86.31</td>\n",
       "      <td>7</td>\n",
       "      <td>30.2085</td>\n",
       "      <td>634.3785</td>\n",
       "      <td>2/8/2019</td>\n",
       "      <td>10:37</td>\n",
       "      <td>Ewallet</td>\n",
       "      <td>604.17</td>\n",
       "      <td>4.761905</td>\n",
       "      <td>30.2085</td>\n",
       "      <td>5.3</td>\n",
       "      <td>Feb</td>\n",
       "    </tr>\n",
       "  </tbody>\n",
       "</table>\n",
       "</div>"
      ],
      "text/plain": [
       "    invoice_id branch       city customer_type  gender  \\\n",
       "0  750-67-8428      A     Yangon        Member  Female   \n",
       "1  226-31-3081      C  Naypyitaw        Normal  Female   \n",
       "2  631-41-3108      A     Yangon        Normal    Male   \n",
       "3  123-19-1176      A     Yangon        Member    Male   \n",
       "4  373-73-7910      A     Yangon        Normal    Male   \n",
       "\n",
       "             product_line  unit_price  qty   tax_5%     total       date  \\\n",
       "0       Health and beauty       74.69    7  26.1415  548.9715   1/5/2019   \n",
       "1  Electronic accessories       15.28    5   3.8200   80.2200   3/8/2019   \n",
       "2      Home and lifestyle       46.33    7  16.2155  340.5255   3/3/2019   \n",
       "3       Health and beauty       58.22    8  23.2880  489.0480  1/27/2019   \n",
       "4       Sports and travel       86.31    7  30.2085  634.3785   2/8/2019   \n",
       "\n",
       "    time      payment    cogs  gross_margin_perc  gross_inc  rating month  \n",
       "0  13:08      Ewallet  522.83           4.761905    26.1415     9.1   Jan  \n",
       "1  10:29         Cash   76.40           4.761905     3.8200     9.6   Mar  \n",
       "2  13:23  Credit card  324.31           4.761905    16.2155     7.4   Mar  \n",
       "3  20:33      Ewallet  465.76           4.761905    23.2880     8.4   Jan  \n",
       "4  10:37      Ewallet  604.17           4.761905    30.2085     5.3   Feb  "
      ]
     },
     "execution_count": 29,
     "metadata": {},
     "output_type": "execute_result"
    }
   ],
   "source": [
    "df_filt = df_raw[df_raw['gross_inc'] <= 47.225]\n",
    "df_filt.head()"
   ]
  },
  {
   "cell_type": "markdown",
   "id": "48a52f95",
   "metadata": {},
   "source": [
    "Now the data look better with histogram"
   ]
  },
  {
   "cell_type": "code",
   "execution_count": 14,
   "id": "f38cd169",
   "metadata": {
    "ExecuteTime": {
     "end_time": "2021-07-26T17:42:01.698021Z",
     "start_time": "2021-07-26T17:42:01.426425Z"
    }
   },
   "outputs": [
    {
     "data": {
      "text/plain": [
       "<matplotlib.axes._subplots.AxesSubplot at 0x13dfba78>"
      ]
     },
     "execution_count": 14,
     "metadata": {},
     "output_type": "execute_result"
    },
    {
     "data": {
      "image/png": "[encoded data removed]",
      "text/plain": [
       "<Figure size 432x288 with 1 Axes>"
      ]
     },
     "metadata": {
      "needs_background": "light"
     },
     "output_type": "display_data"
    }
   ],
   "source": [
    "df_filt['gross_inc'].plot.hist(bins=20, density=True)"
   ]
  },
  {
   "cell_type": "markdown",
   "id": "3d396608",
   "metadata": {},
   "source": [
    "And also looks better, with boxplot"
   ]
  },
  {
   "cell_type": "code",
   "execution_count": 15,
   "id": "0ffbdf17",
   "metadata": {
    "ExecuteTime": {
     "end_time": "2021-07-26T10:12:30.832504Z",
     "start_time": "2021-07-26T10:12:30.630027Z"
    }
   },
   "outputs": [
    {
     "data": {
      "image/png": "[encoded data removed]",
      "text/plain": [
       "<Figure size 432x288 with 1 Axes>"
      ]
     },
     "metadata": {
      "needs_background": "light"
     },
     "output_type": "display_data"
    }
   ],
   "source": [
    "plt.boxplot(df_filt['gross_inc'],\n",
    "            labels=['Data'],\n",
    "            showfliers=False,\n",
    "            vert=False,\n",
    "            flierprops={\n",
    "                'markerfacecolor': 'r',\n",
    "                'marker': 'd'\n",
    "            })\n",
    "plt.title('Outlier Detection')\n",
    "plt.xlabel('gross_inc')\n",
    "plt.ylabel('')\n",
    "plt.show()"
   ]
  },
  {
   "cell_type": "code",
   "execution_count": 16,
   "id": "63667ed7",
   "metadata": {
    "ExecuteTime": {
     "end_time": "2021-07-26T10:12:30.880377Z",
     "start_time": "2021-07-26T10:12:30.836493Z"
    }
   },
   "outputs": [
    {
     "data": {
      "text/html": [
       "<div>\n",
       "<style scoped>\n",
       "    .dataframe tbody tr th:only-of-type {\n",
       "        vertical-align: middle;\n",
       "    }\n",
       "\n",
       "    .dataframe tbody tr th {\n",
       "        vertical-align: top;\n",
       "    }\n",
       "\n",
       "    .dataframe thead th {\n",
       "        text-align: right;\n",
       "    }\n",
       "</style>\n",
       "<table border=\"1\" class=\"dataframe\">\n",
       "  <thead>\n",
       "    <tr style=\"text-align: right;\">\n",
       "      <th></th>\n",
       "      <th>invoice_id</th>\n",
       "      <th>branch</th>\n",
       "      <th>city</th>\n",
       "      <th>gender</th>\n",
       "      <th>product_line</th>\n",
       "      <th>unit_price</th>\n",
       "      <th>qty</th>\n",
       "      <th>tax_5%</th>\n",
       "      <th>total</th>\n",
       "      <th>date</th>\n",
       "      <th>time</th>\n",
       "      <th>payment</th>\n",
       "      <th>cogs</th>\n",
       "      <th>gross_margin_perc</th>\n",
       "      <th>gross_inc</th>\n",
       "      <th>rating</th>\n",
       "    </tr>\n",
       "    <tr>\n",
       "      <th>customer_type</th>\n",
       "      <th></th>\n",
       "      <th></th>\n",
       "      <th></th>\n",
       "      <th></th>\n",
       "      <th></th>\n",
       "      <th></th>\n",
       "      <th></th>\n",
       "      <th></th>\n",
       "      <th></th>\n",
       "      <th></th>\n",
       "      <th></th>\n",
       "      <th></th>\n",
       "      <th></th>\n",
       "      <th></th>\n",
       "      <th></th>\n",
       "      <th></th>\n",
       "    </tr>\n",
       "  </thead>\n",
       "  <tbody>\n",
       "    <tr>\n",
       "      <th>Member</th>\n",
       "      <td>498</td>\n",
       "      <td>498</td>\n",
       "      <td>498</td>\n",
       "      <td>498</td>\n",
       "      <td>498</td>\n",
       "      <td>498</td>\n",
       "      <td>498</td>\n",
       "      <td>498</td>\n",
       "      <td>498</td>\n",
       "      <td>498</td>\n",
       "      <td>498</td>\n",
       "      <td>498</td>\n",
       "      <td>498</td>\n",
       "      <td>498</td>\n",
       "      <td>498</td>\n",
       "      <td>498</td>\n",
       "    </tr>\n",
       "    <tr>\n",
       "      <th>Normal</th>\n",
       "      <td>493</td>\n",
       "      <td>493</td>\n",
       "      <td>493</td>\n",
       "      <td>493</td>\n",
       "      <td>493</td>\n",
       "      <td>493</td>\n",
       "      <td>493</td>\n",
       "      <td>493</td>\n",
       "      <td>493</td>\n",
       "      <td>493</td>\n",
       "      <td>493</td>\n",
       "      <td>493</td>\n",
       "      <td>493</td>\n",
       "      <td>493</td>\n",
       "      <td>493</td>\n",
       "      <td>493</td>\n",
       "    </tr>\n",
       "  </tbody>\n",
       "</table>\n",
       "</div>"
      ],
      "text/plain": [
       "               invoice_id  branch  city  gender  product_line  unit_price  \\\n",
       "customer_type                                                               \n",
       "Member                498     498   498     498           498         498   \n",
       "Normal                493     493   493     493           493         493   \n",
       "\n",
       "               qty  tax_5%  total  date  time  payment  cogs  \\\n",
       "customer_type                                                  \n",
       "Member         498     498    498   498   498      498   498   \n",
       "Normal         493     493    493   493   493      493   493   \n",
       "\n",
       "               gross_margin_perc  gross_inc  rating  \n",
       "customer_type                                        \n",
       "Member                       498        498     498  \n",
       "Normal                       493        493     493  "
      ]
     },
     "execution_count": 16,
     "metadata": {},
     "output_type": "execute_result"
    }
   ],
   "source": [
    "df_filt.groupby('customer_type').count()"
   ]
  },
  {
   "cell_type": "markdown",
   "id": "ba61fdb3",
   "metadata": {},
   "source": [
    "## Measure of Central Tendency"
   ]
  },
  {
   "cell_type": "code",
   "execution_count": 17,
   "id": "ce3e0ee9",
   "metadata": {
    "ExecuteTime": {
     "end_time": "2021-07-26T10:12:30.911294Z",
     "start_time": "2021-07-26T10:12:30.883368Z"
    }
   },
   "outputs": [
    {
     "name": "stdout",
     "output_type": "stream",
     "text": [
      "count    991.000000\n",
      "mean      15.076417\n",
      "std       11.319504\n",
      "min        0.508500\n",
      "25%        5.817500\n",
      "50%       12.036000\n",
      "75%       22.127000\n",
      "max       45.325000\n",
      "Name: gross_inc, dtype: float64\n"
     ]
    }
   ],
   "source": [
    "print(df_filt['gross_inc'].describe())"
   ]
  },
  {
   "cell_type": "markdown",
   "id": "bbbc88e3",
   "metadata": {},
   "source": [
    "#### Measure of Central Tendency Mean"
   ]
  },
  {
   "cell_type": "code",
   "execution_count": 18,
   "id": "fc41ca5e",
   "metadata": {
    "ExecuteTime": {
     "end_time": "2021-07-26T10:12:30.974125Z",
     "start_time": "2021-07-26T10:12:30.915283Z"
    }
   },
   "outputs": [
    {
     "name": "stdout",
     "output_type": "stream",
     "text": [
      "15.076416750756811\n"
     ]
    }
   ],
   "source": [
    "print(df_filt['gross_inc'].mean())"
   ]
  },
  {
   "cell_type": "markdown",
   "id": "dd15b9a3",
   "metadata": {},
   "source": [
    "#### Measure of Central Tendency Median"
   ]
  },
  {
   "cell_type": "code",
   "execution_count": 19,
   "id": "f24f6be5",
   "metadata": {
    "ExecuteTime": {
     "end_time": "2021-07-26T10:12:31.021000Z",
     "start_time": "2021-07-26T10:12:30.979114Z"
    }
   },
   "outputs": [
    {
     "name": "stdout",
     "output_type": "stream",
     "text": [
      "12.036\n"
     ]
    }
   ],
   "source": [
    "print(df_filt['gross_inc'].median())"
   ]
  },
  {
   "cell_type": "markdown",
   "id": "45b451f6",
   "metadata": {},
   "source": [
    "#### Measure of Central Tendency Modus"
   ]
  },
  {
   "cell_type": "code",
   "execution_count": 20,
   "id": "c5ff7d9e",
   "metadata": {
    "ExecuteTime": {
     "end_time": "2021-07-26T10:12:31.068871Z",
     "start_time": "2021-07-26T10:12:31.024990Z"
    }
   },
   "outputs": [
    {
     "name": "stdout",
     "output_type": "stream",
     "text": [
      "0     4.1540\n",
      "1     4.4640\n",
      "2     8.3770\n",
      "3     9.0045\n",
      "4    10.3260\n",
      "5    10.3635\n",
      "6    12.5700\n",
      "7    13.1880\n",
      "8    22.4280\n",
      "9    39.4800\n",
      "dtype: float64\n"
     ]
    }
   ],
   "source": [
    "print(df_filt['gross_inc'].mode())"
   ]
  },
  {
   "cell_type": "markdown",
   "id": "94137a5e",
   "metadata": {},
   "source": [
    "### Measure of Variance"
   ]
  },
  {
   "cell_type": "markdown",
   "id": "fe4e3256",
   "metadata": {},
   "source": [
    "#### Measure of Variance Range"
   ]
  },
  {
   "cell_type": "code",
   "execution_count": 21,
   "id": "f722d0c8",
   "metadata": {
    "ExecuteTime": {
     "end_time": "2021-07-26T10:12:31.131202Z",
     "start_time": "2021-07-26T10:12:31.072863Z"
    }
   },
   "outputs": [
    {
     "name": "stdout",
     "output_type": "stream",
     "text": [
      "unit_price range: 89.88\n",
      "gross_inc range: 44.816500000000005\n"
     ]
    }
   ],
   "source": [
    "numcols = ['unit_price','gross_inc']\n",
    "for col in numcols:\n",
    "    print(df_filt[col].name + ' range: ' + str(df_filt[col].max() - df_filt[col].min()))"
   ]
  },
  {
   "cell_type": "markdown",
   "id": "53683695",
   "metadata": {},
   "source": [
    "#### Measure of Variance"
   ]
  },
  {
   "cell_type": "code",
   "execution_count": 22,
   "id": "dbcc96e2",
   "metadata": {
    "ExecuteTime": {
     "end_time": "2021-07-26T10:12:31.179076Z",
     "start_time": "2021-07-26T10:12:31.134194Z"
    }
   },
   "outputs": [
    {
     "name": "stdout",
     "output_type": "stream",
     "text": [
      "128.13117664078982\n"
     ]
    }
   ],
   "source": [
    "print(df_filt['gross_inc'].var())"
   ]
  },
  {
   "cell_type": "markdown",
   "id": "c3eb3dbc",
   "metadata": {},
   "source": [
    "#### Measure of Variance Standard Deviation"
   ]
  },
  {
   "cell_type": "code",
   "execution_count": 23,
   "id": "76fa8751",
   "metadata": {
    "ExecuteTime": {
     "end_time": "2021-07-26T10:12:31.383528Z",
     "start_time": "2021-07-26T10:12:31.183064Z"
    }
   },
   "outputs": [
    {
     "name": "stdout",
     "output_type": "stream",
     "text": [
      "11.319504257730982\n"
     ]
    }
   ],
   "source": [
    "print(df_filt['gross_inc'].std())"
   ]
  },
  {
   "cell_type": "markdown",
   "id": "1c819dae",
   "metadata": {},
   "source": [
    "#### Display with Plot"
   ]
  },
  {
   "cell_type": "code",
   "execution_count": 24,
   "id": "a808cac9",
   "metadata": {
    "ExecuteTime": {
     "end_time": "2021-07-26T10:12:31.935055Z",
     "start_time": "2021-07-26T10:12:31.388515Z"
    }
   },
   "outputs": [
    {
     "data": {
      "text/plain": [
       "<matplotlib.lines.Line2D at 0x1348aa30>"
      ]
     },
     "execution_count": 24,
     "metadata": {},
     "output_type": "execute_result"
    },
    {
     "data": {
      "image/png": "[encoded data removed]",
      "text/plain": [
       "<Figure size 432x288 with 1 Axes>"
      ]
     },
     "metadata": {
      "needs_background": "light"
     },
     "output_type": "display_data"
    }
   ],
   "source": [
    "df_filt['gross_inc'].plot.hist(bins=20, density=True)\n",
    "plt.axvline(df_filt['gross_inc'].describe()['mean'],\n",
    "            color='red',\n",
    "            linestyle='dashed',\n",
    "            linewidth=2)\n",
    "plt.axvline(df_filt['gross_inc'].describe()['50%'],\n",
    "            color='magenta',\n",
    "            linestyle='dashed',\n",
    "            linewidth=2)\n",
    "plt.axvline(df_filt['gross_inc'].describe()['mean'] +\n",
    "            df_filt['gross_inc'].describe()['std'],\n",
    "            color='green',\n",
    "            linestyle='dashed',\n",
    "            linewidth=2)"
   ]
  },
  {
   "cell_type": "markdown",
   "id": "1624c4a0",
   "metadata": {},
   "source": [
    "##### Distribution Fit"
   ]
  },
  {
   "cell_type": "code",
   "execution_count": 25,
   "id": "b333f497",
   "metadata": {
    "ExecuteTime": {
     "end_time": "2021-07-26T10:12:32.425739Z",
     "start_time": "2021-07-26T10:12:31.939042Z"
    }
   },
   "outputs": [
    {
     "data": {
      "text/plain": [
       "[<matplotlib.lines.Line2D at 0x134d8dc0>]"
      ]
     },
     "execution_count": 25,
     "metadata": {},
     "output_type": "execute_result"
    },
    {
     "data": {
      "image/png": "[encoded data removed]",
      "text/plain": [
       "<Figure size 432x288 with 1 Axes>"
      ]
     },
     "metadata": {
      "needs_background": "light"
     },
     "output_type": "display_data"
    }
   ],
   "source": [
    "from scipy.stats import beta as beta_fun\n",
    "\n",
    "fig, ax = plt.subplots(1, 1)\n",
    "df_filt['gross_inc'].plot.hist(bins=20, density=True)\n",
    "\n",
    "alpha = 2.5\n",
    "beta = 20\n",
    "x = np.linspace(0, 1, 100)\n",
    "plt.plot(47.225 * x,\n",
    "         beta_fun.pdf(x, alpha, beta) / 47.225,\n",
    "         'm-',\n",
    "         lw=1.5,\n",
    "         alpha=1,\n",
    "         label='norm pdf')\n",
    "\n",
    "x = np.linspace(0, 47.225, 100)\n",
    "plt.plot(x,\n",
    "         norm.pdf(x, df_filt['gross_inc'].describe()['mean'],\n",
    "                  df_filt['gross_inc'].describe()['std']-100),\n",
    "         'r-',\n",
    "         lw=1.5,\n",
    "         alpha=1,\n",
    "         label='expon pdf')"
   ]
  },
  {
   "cell_type": "code",
   "execution_count": 26,
   "id": "98b15b13",
   "metadata": {
    "ExecuteTime": {
     "end_time": "2021-07-26T10:12:32.441697Z",
     "start_time": "2021-07-26T10:12:32.428732Z"
    }
   },
   "outputs": [
    {
     "name": "stdout",
     "output_type": "stream",
     "text": [
      "5.247222222222222\n"
     ]
    }
   ],
   "source": [
    "Exp_value = alpha/(alpha+beta)*47.225\n",
    "print(Exp_value)"
   ]
  },
  {
   "cell_type": "markdown",
   "id": "24a6b869",
   "metadata": {},
   "source": [
    "#### Confidence Interval"
   ]
  },
  {
   "cell_type": "code",
   "execution_count": 27,
   "id": "4c021fd6",
   "metadata": {
    "ExecuteTime": {
     "end_time": "2021-07-26T10:12:32.946375Z",
     "start_time": "2021-07-26T10:12:32.450675Z"
    }
   },
   "outputs": [
    {
     "data": {
      "image/png": "[encoded data removed]",
      "text/plain": [
       "<Figure size 432x288 with 1 Axes>"
      ]
     },
     "metadata": {
      "needs_background": "light"
     },
     "output_type": "display_data"
    },
    {
     "name": "stdout",
     "output_type": "stream",
     "text": [
      "Sampling Mean: 15.076416750756811\n",
      "Sampling StdErr: 11.319504257730982\n",
      "95% Confidence Interval: (-7.109403917243709, 37.26223741875733)\n"
     ]
    }
   ],
   "source": [
    "means = df_filt['gross_inc']\n",
    "m = means.mean()\n",
    "sd = means.std()\n",
    "ci = stats.norm.interval(0.95, m, sd)\n",
    "\n",
    "# Plot the distribution, mean, and CI\n",
    "means.plot.hist(title='Simulated Sampling Distribution', bins=20) \n",
    "plt.axvline(m, color='red', linestyle='dashed', linewidth=2)\n",
    "plt.axvline(ci[0], color='magenta', linestyle='dashed', linewidth=2)\n",
    "plt.axvline(ci[1], color='magenta', linestyle='dashed', linewidth=2)\n",
    "plt.show()\n",
    "\n",
    "# Print the Mean, StdDev and 95% CI\n",
    "print ('Sampling Mean: ' + str(m))\n",
    "print ('Sampling StdErr: ' + str(sd))\n",
    "print ('95% Confidence Interval: ' + str(ci))"
   ]
  },
  {
   "cell_type": "markdown",
   "id": "74f0919b",
   "metadata": {
    "ExecuteTime": {
     "end_time": "2021-07-21T13:48:37.424752Z",
     "start_time": "2021-07-21T13:48:37.352586Z"
    }
   },
   "source": [
    "### Two Sample Test (Member vs Non Member)"
   ]
  },
  {
   "cell_type": "markdown",
   "id": "8c154eef",
   "metadata": {},
   "source": [
    "##### It was applied to compare whether the mean difference between the two groups was truly significant or whether it was due to random chance. This helps answer questions such as whether member customers have a significant meaning to gross income"
   ]
  },
  {
   "cell_type": "code",
   "execution_count": 28,
   "id": "cf895da7",
   "metadata": {
    "ExecuteTime": {
     "end_time": "2021-07-26T10:12:32.993248Z",
     "start_time": "2021-07-26T10:12:32.951361Z"
    }
   },
   "outputs": [],
   "source": [
    "df_make_smy=df_filt.groupby('customer_type').agg({'gross_inc':['count','mean']}).reset_index()\n",
    "df_make_smy.columns = df_make_smy.columns.droplevel()"
   ]
  },
  {
   "cell_type": "code",
   "execution_count": 29,
   "id": "b3619499",
   "metadata": {
    "ExecuteTime": {
     "end_time": "2021-07-26T10:12:33.025163Z",
     "start_time": "2021-07-26T10:12:32.998235Z"
    }
   },
   "outputs": [
    {
     "data": {
      "text/html": [
       "<div>\n",
       "<style scoped>\n",
       "    .dataframe tbody tr th:only-of-type {\n",
       "        vertical-align: middle;\n",
       "    }\n",
       "\n",
       "    .dataframe tbody tr th {\n",
       "        vertical-align: top;\n",
       "    }\n",
       "\n",
       "    .dataframe thead th {\n",
       "        text-align: right;\n",
       "    }\n",
       "</style>\n",
       "<table border=\"1\" class=\"dataframe\">\n",
       "  <thead>\n",
       "    <tr style=\"text-align: right;\">\n",
       "      <th></th>\n",
       "      <th></th>\n",
       "      <th>count</th>\n",
       "      <th>mean</th>\n",
       "    </tr>\n",
       "  </thead>\n",
       "  <tbody>\n",
       "    <tr>\n",
       "      <th>0</th>\n",
       "      <td>Member</td>\n",
       "      <td>498</td>\n",
       "      <td>15.406926</td>\n",
       "    </tr>\n",
       "    <tr>\n",
       "      <th>1</th>\n",
       "      <td>Normal</td>\n",
       "      <td>493</td>\n",
       "      <td>14.742556</td>\n",
       "    </tr>\n",
       "  </tbody>\n",
       "</table>\n",
       "</div>"
      ],
      "text/plain": [
       "           count       mean\n",
       "0  Member    498  15.406926\n",
       "1  Normal    493  14.742556"
      ]
     },
     "execution_count": 29,
     "metadata": {},
     "output_type": "execute_result"
    }
   ],
   "source": [
    "df_make_smy.sort_values('count',ascending=False).head()"
   ]
  },
  {
   "cell_type": "code",
   "execution_count": 30,
   "id": "63f6f67a",
   "metadata": {
    "ExecuteTime": {
     "end_time": "2021-07-26T10:12:33.073035Z",
     "start_time": "2021-07-26T10:12:33.030150Z"
    }
   },
   "outputs": [],
   "source": [
    "df_member = df_filt[df_filt['customer_type'] == 'Member']\n",
    "df_nonmember = df_filt[df_filt['customer_type'] == 'Normal']"
   ]
  },
  {
   "cell_type": "code",
   "execution_count": 31,
   "id": "20a86789",
   "metadata": {
    "ExecuteTime": {
     "end_time": "2021-07-26T10:12:33.500890Z",
     "start_time": "2021-07-26T10:12:33.081014Z"
    }
   },
   "outputs": [
    {
     "name": "stderr",
     "output_type": "stream",
     "text": [
      "c:\\users\\rohmad\\appdata\\local\\programs\\python\\python38-32\\lib\\site-packages\\seaborn\\distributions.py:2557: FutureWarning: `distplot` is a deprecated function and will be removed in a future version. Please adapt your code to use either `displot` (a figure-level function with similar flexibility) or `histplot` (an axes-level function for histograms).\n",
      "  warnings.warn(msg, FutureWarning)\n"
     ]
    },
    {
     "data": {
      "text/plain": [
       "<matplotlib.axes._subplots.AxesSubplot at 0x122b79a0>"
      ]
     },
     "execution_count": 31,
     "metadata": {},
     "output_type": "execute_result"
    },
    {
     "data": {
      "image/png": "[encoded data removed]",
      "text/plain": [
       "<Figure size 432x288 with 1 Axes>"
      ]
     },
     "metadata": {
      "needs_background": "light"
     },
     "output_type": "display_data"
    }
   ],
   "source": [
    "sns.distplot(df_member['gross_inc'])"
   ]
  },
  {
   "cell_type": "code",
   "execution_count": 32,
   "id": "4f0fa8eb",
   "metadata": {
    "ExecuteTime": {
     "end_time": "2021-07-26T10:12:33.945342Z",
     "start_time": "2021-07-26T10:12:33.505877Z"
    }
   },
   "outputs": [
    {
     "name": "stderr",
     "output_type": "stream",
     "text": [
      "c:\\users\\rohmad\\appdata\\local\\programs\\python\\python38-32\\lib\\site-packages\\seaborn\\distributions.py:2557: FutureWarning: `distplot` is a deprecated function and will be removed in a future version. Please adapt your code to use either `displot` (a figure-level function with similar flexibility) or `histplot` (an axes-level function for histograms).\n",
      "  warnings.warn(msg, FutureWarning)\n"
     ]
    },
    {
     "data": {
      "text/plain": [
       "<matplotlib.axes._subplots.AxesSubplot at 0x145c7a30>"
      ]
     },
     "execution_count": 32,
     "metadata": {},
     "output_type": "execute_result"
    },
    {
     "data": {
      "image/png": "[encoded data removed]",
      "text/plain": [
       "<Figure size 432x288 with 1 Axes>"
      ]
     },
     "metadata": {
      "needs_background": "light"
     },
     "output_type": "display_data"
    }
   ],
   "source": [
    "sns.distplot(df_nonmember['gross_inc'])"
   ]
  },
  {
   "cell_type": "code",
   "execution_count": 33,
   "id": "693713b0",
   "metadata": {
    "ExecuteTime": {
     "end_time": "2021-07-26T10:12:34.626417Z",
     "start_time": "2021-07-26T10:12:33.959179Z"
    }
   },
   "outputs": [
    {
     "name": "stdout",
     "output_type": "stream",
     "text": [
      "Member sample mean:15.406925702811243\n",
      "Member sample std:11.55240693250141\n",
      "Member Kurtosis:-0.30543442158994694\n",
      "Non Member sample mean:14.742555780933063\n",
      "t-statistic:-0.9239383869237462\n",
      "p-value:0.177872\n"
     ]
    },
    {
     "data": {
      "image/png": "[encoded data removed]",
      "text/plain": [
       "<Figure size 432x288 with 1 Axes>"
      ]
     },
     "metadata": {
      "needs_background": "light"
     },
     "output_type": "display_data"
    }
   ],
   "source": [
    "np.random.seed(123)\n",
    "nonMath =df_member['gross_inc']\n",
    "math = df_nonmember['gross_inc']\n",
    "print(\"Member sample mean:\" + str(nonMath.mean()))\n",
    "print(\"Member sample std:\" + str(nonMath.std()))\n",
    "print(\"Member Kurtosis:\" + str(nonMath.kurtosis()))\n",
    "print(\"Non Member sample mean:\" + str(math.mean()))\n",
    "\n",
    "# Independent T-Test\n",
    "t,p = stats.ttest_ind(math, nonMath,equal_var=False)\n",
    "# ttest_ind is 2-tailed, so half the resulting p-value to get a 1-tailed p-value\n",
    "p1 = '%f' % (p/2)\n",
    "\n",
    "#2-tailed\n",
    "print(\"t-statistic:\" + str(t))\n",
    "print(\"p-value:\" + str(p1))\n",
    "\n",
    "pop = np.random.normal(nonMath.mean(), nonMath.std(), 100000)\n",
    "# calculate a 90% confidence interval. 10% of the probability is outside this, 5% in each tail\n",
    "ci = stats.norm.interval(0.90, nonMath.mean(), nonMath.std())\n",
    "plt.hist(pop, bins=100)\n",
    "# show the hypothesized population mean\n",
    "plt.axvline(pop.mean(), color='yellow', linestyle='dashed', linewidth=2)\n",
    "# show the right-tail confidence interval threshold - 5% of propbability is under the curve to the right of this.\n",
    "plt.axvline(ci[1], color='red', linestyle='dashed', linewidth=2)\n",
    "# show the right-tail confidence interval threshold - 5% of propbability is under the curve to the right of this.\n",
    "plt.axvline(ci[0], color='red', linestyle='dashed', linewidth=2)\n",
    "# show the t-statistic - the p-value is the area under the curve to the right of this\n",
    "plt.axvline(pop.mean() +  t*pop.std(), color='magenta', linestyle='dashed', linewidth=2)\n",
    "plt.show()"
   ]
  },
  {
   "cell_type": "markdown",
   "id": "21c93674",
   "metadata": {},
   "source": [
    "### Pengambilan Kesimpulan"
   ]
  },
  {
   "cell_type": "markdown",
   "id": "7c8a2cbb",
   "metadata": {},
   "source": [
    "The null hypothesis (H0) is that the population mean value for member category customers is less than the population mean value for non-member customers, and the fact that our sample mean for non-member customers is higher than our sample mean for member customers can be described randomly in our sample selection.\n",
    "\n",
    "The alternative hypothesis (H1) is that the average value of the customer population for the Member category that is closest to the actual goal is greater than the average value for the population of Non-Member customers."
   ]
  },
  {
   "cell_type": "markdown",
   "id": "421a4edc",
   "metadata": {},
   "source": [
    "$$\n",
    "\\begin{equation}H_{0}: \\mu_{1} \\le \\mu_{2} \\\\ H_{1}: \\mu_{1} > \\mu_{2} \\end{equation}\n",
    "$$\n",
    "\n",
    "\\begin{equation}\\mu_{1}: Member\\end{equation} \\begin{equation}\\mu_{2}: Non Member\\end{equation}"
   ]
  },
  {
   "cell_type": "markdown",
   "id": "2194dea0",
   "metadata": {},
   "source": [
    "This shows that we do not have enough proof to say that Member customers have higher average value than Non Member customers, so we reject our H1 and accept H0"
   ]
  },
  {
   "cell_type": "markdown",
   "id": "95960823",
   "metadata": {},
   "source": [
    "### Two Sample Test (Female vs Male)"
   ]
  },
  {
   "cell_type": "markdown",
   "id": "34ffec19",
   "metadata": {},
   "source": [
    "##### It was applied to compare whether the mean difference between the two groups was truly significant or whether it was due to random chance. This helps answer questions such as whether gender customers have a significant meaning to gross income"
   ]
  },
  {
   "cell_type": "code",
   "execution_count": 34,
   "id": "74c35287",
   "metadata": {
    "ExecuteTime": {
     "end_time": "2021-07-26T10:12:34.674289Z",
     "start_time": "2021-07-26T10:12:34.630406Z"
    }
   },
   "outputs": [],
   "source": [
    "df_make_smy=df_filt.groupby('gender').agg({'gross_inc':['count','mean']}).reset_index()\n",
    "df_make_smy.columns = df_make_smy.columns.droplevel()"
   ]
  },
  {
   "cell_type": "code",
   "execution_count": 35,
   "id": "9e5e3422",
   "metadata": {
    "ExecuteTime": {
     "end_time": "2021-07-26T10:12:34.706203Z",
     "start_time": "2021-07-26T10:12:34.679275Z"
    }
   },
   "outputs": [
    {
     "data": {
      "text/html": [
       "<div>\n",
       "<style scoped>\n",
       "    .dataframe tbody tr th:only-of-type {\n",
       "        vertical-align: middle;\n",
       "    }\n",
       "\n",
       "    .dataframe tbody tr th {\n",
       "        vertical-align: top;\n",
       "    }\n",
       "\n",
       "    .dataframe thead th {\n",
       "        text-align: right;\n",
       "    }\n",
       "</style>\n",
       "<table border=\"1\" class=\"dataframe\">\n",
       "  <thead>\n",
       "    <tr style=\"text-align: right;\">\n",
       "      <th></th>\n",
       "      <th></th>\n",
       "      <th>count</th>\n",
       "      <th>mean</th>\n",
       "    </tr>\n",
       "  </thead>\n",
       "  <tbody>\n",
       "    <tr>\n",
       "      <th>1</th>\n",
       "      <td>Male</td>\n",
       "      <td>496</td>\n",
       "      <td>14.594585</td>\n",
       "    </tr>\n",
       "    <tr>\n",
       "      <th>0</th>\n",
       "      <td>Female</td>\n",
       "      <td>495</td>\n",
       "      <td>15.559222</td>\n",
       "    </tr>\n",
       "  </tbody>\n",
       "</table>\n",
       "</div>"
      ],
      "text/plain": [
       "           count       mean\n",
       "1    Male    496  14.594585\n",
       "0  Female    495  15.559222"
      ]
     },
     "execution_count": 35,
     "metadata": {},
     "output_type": "execute_result"
    }
   ],
   "source": [
    "df_make_smy.sort_values('count',ascending=False).head()"
   ]
  },
  {
   "cell_type": "code",
   "execution_count": 36,
   "id": "b3cdacab",
   "metadata": {
    "ExecuteTime": {
     "end_time": "2021-07-26T10:12:34.738117Z",
     "start_time": "2021-07-26T10:12:34.711190Z"
    }
   },
   "outputs": [],
   "source": [
    "df_female = df_filt[df_filt['gender'] == 'Female']\n",
    "df_male = df_filt[df_filt['gender'] == 'Male']"
   ]
  },
  {
   "cell_type": "code",
   "execution_count": 37,
   "id": "6b4927c5",
   "metadata": {
    "ExecuteTime": {
     "end_time": "2021-07-26T10:12:35.165993Z",
     "start_time": "2021-07-26T10:12:34.741109Z"
    }
   },
   "outputs": [
    {
     "name": "stderr",
     "output_type": "stream",
     "text": [
      "c:\\users\\rohmad\\appdata\\local\\programs\\python\\python38-32\\lib\\site-packages\\seaborn\\distributions.py:2557: FutureWarning: `distplot` is a deprecated function and will be removed in a future version. Please adapt your code to use either `displot` (a figure-level function with similar flexibility) or `histplot` (an axes-level function for histograms).\n",
      "  warnings.warn(msg, FutureWarning)\n"
     ]
    },
    {
     "data": {
      "text/plain": [
       "<matplotlib.axes._subplots.AxesSubplot at 0x145f73b8>"
      ]
     },
     "execution_count": 37,
     "metadata": {},
     "output_type": "execute_result"
    },
    {
     "data": {
      "image/png": "[encoded data removed]",
      "text/plain": [
       "<Figure size 432x288 with 1 Axes>"
      ]
     },
     "metadata": {
      "needs_background": "light"
     },
     "output_type": "display_data"
    }
   ],
   "source": [
    "sns.distplot(df_female['gross_inc'])"
   ]
  },
  {
   "cell_type": "code",
   "execution_count": 38,
   "id": "ca5251ad",
   "metadata": {
    "ExecuteTime": {
     "end_time": "2021-07-26T10:12:35.628755Z",
     "start_time": "2021-07-26T10:12:35.169982Z"
    }
   },
   "outputs": [
    {
     "name": "stderr",
     "output_type": "stream",
     "text": [
      "c:\\users\\rohmad\\appdata\\local\\programs\\python\\python38-32\\lib\\site-packages\\seaborn\\distributions.py:2557: FutureWarning: `distplot` is a deprecated function and will be removed in a future version. Please adapt your code to use either `displot` (a figure-level function with similar flexibility) or `histplot` (an axes-level function for histograms).\n",
      "  warnings.warn(msg, FutureWarning)\n"
     ]
    },
    {
     "data": {
      "text/plain": [
       "<matplotlib.axes._subplots.AxesSubplot at 0x13394dd8>"
      ]
     },
     "execution_count": 38,
     "metadata": {},
     "output_type": "execute_result"
    },
    {
     "data": {
      "image/png": "[encoded data removed]",
      "text/plain": [
       "<Figure size 432x288 with 1 Axes>"
      ]
     },
     "metadata": {
      "needs_background": "light"
     },
     "output_type": "display_data"
    }
   ],
   "source": [
    "sns.distplot(df_male['gross_inc'])"
   ]
  },
  {
   "cell_type": "code",
   "execution_count": 39,
   "id": "7162e21b",
   "metadata": {
    "ExecuteTime": {
     "end_time": "2021-07-26T10:12:36.180301Z",
     "start_time": "2021-07-26T10:12:35.643717Z"
    }
   },
   "outputs": [
    {
     "name": "stdout",
     "output_type": "stream",
     "text": [
      "Female sample mean:15.559222222222221\n",
      "Female sample std:11.376801908092753\n",
      "Female Kurtosis:-0.36427773073639935\n",
      "Male sample mean:14.594584677419356\n",
      "t-statistic:-1.3418813301589028\n",
      "p-value:0.089971\n"
     ]
    },
    {
     "data": {
      "image/png": "[encoded data removed]",
      "text/plain": [
       "<Figure size 432x288 with 1 Axes>"
      ]
     },
     "metadata": {
      "needs_background": "light"
     },
     "output_type": "display_data"
    }
   ],
   "source": [
    "np.random.seed(123)\n",
    "nonMath =df_female['gross_inc']\n",
    "math = df_male['gross_inc']\n",
    "print(\"Female sample mean:\" + str(nonMath.mean()))\n",
    "print(\"Female sample std:\" + str(nonMath.std()))\n",
    "print(\"Female Kurtosis:\" + str(nonMath.kurtosis()))\n",
    "print(\"Male sample mean:\" + str(math.mean()))\n",
    "\n",
    "# Independent T-Test\n",
    "t,p = stats.ttest_ind(math, nonMath,equal_var=False)\n",
    "# ttest_ind is 2-tailed, so half the resulting p-value to get a 1-tailed p-value\n",
    "p1 = '%f' % (p/2)\n",
    "\n",
    "#2-tailed\n",
    "print(\"t-statistic:\" + str(t))\n",
    "print(\"p-value:\" + str(p1))\n",
    "\n",
    "pop = np.random.normal(nonMath.mean(), nonMath.std(), 100000)\n",
    "# calculate a 90% confidence interval. 10% of the probability is outside this, 5% in each tail\n",
    "ci = stats.norm.interval(0.90, nonMath.mean(), nonMath.std())\n",
    "plt.hist(pop, bins=100)\n",
    "# show the hypothesized population mean\n",
    "plt.axvline(pop.mean(), color='yellow', linestyle='dashed', linewidth=2)\n",
    "# show the right-tail confidence interval threshold - 5% of propbability is under the curve to the right of this.\n",
    "plt.axvline(ci[1], color='red', linestyle='dashed', linewidth=2)\n",
    "# show the right-tail confidence interval threshold - 5% of propbability is under the curve to the right of this.\n",
    "plt.axvline(ci[0], color='red', linestyle='dashed', linewidth=2)\n",
    "# show the t-statistic - the p-value is the area under the curve to the right of this\n",
    "plt.axvline(pop.mean() +  t*pop.std(), color='magenta', linestyle='dashed', linewidth=2)\n",
    "plt.show()"
   ]
  },
  {
   "cell_type": "markdown",
   "id": "d5c3d4c9",
   "metadata": {},
   "source": [
    "### Pengambilan Kesimpulan"
   ]
  },
  {
   "cell_type": "markdown",
   "id": "6a1671ca",
   "metadata": {
    "ExecuteTime": {
     "end_time": "2021-07-23T04:17:46.918143Z",
     "start_time": "2021-07-23T04:17:46.896201Z"
    }
   },
   "source": [
    "The null hypothesis (H0) is that the population mean value for female customers is less than the population mean value for male customers, and the fact that our sample mean for male customers is higher than our sample mean for female customers can described randomly in our sample selection.\n",
    "\n",
    "The alternative hypothesis (H1) is that the average value of the Female category customer population that is closest to the actual goal is greater than the average value of the Male customer population."
   ]
  },
  {
   "cell_type": "markdown",
   "id": "71469374",
   "metadata": {},
   "source": [
    "$$\n",
    "\\begin{equation}H_{0}: \\mu_{1} \\le \\mu_{2} \\\\ H_{1}: \\mu_{1} > \\mu_{2} \\end{equation}\n",
    "$$\n",
    "\n",
    "\\begin{equation}\\mu_{1}: Female\\end{equation} \\begin{equation}\\mu_{2}: Male\\end{equation}\n"
   ]
  },
  {
   "cell_type": "markdown",
   "id": "4f49f94d",
   "metadata": {},
   "source": [
    "This shows that we do not have enough proof to say that female customers have higher average value than male customers, so we reject our H1 and accept H0"
   ]
  },
  {
   "cell_type": "markdown",
   "id": "0e1a39df",
   "metadata": {},
   "source": [
    "#### Plotting Gross Income menggunakan Violinplot"
   ]
  },
  {
   "cell_type": "code",
   "execution_count": 40,
   "id": "88aae5ed",
   "metadata": {
    "ExecuteTime": {
     "end_time": "2021-07-26T10:12:36.577240Z",
     "start_time": "2021-07-26T10:12:36.189279Z"
    }
   },
   "outputs": [
    {
     "data": {
      "image/png": "[encoded data removed]",
      "text/plain": [
       "<Figure size 720x504 with 1 Axes>"
      ]
     },
     "metadata": {
      "needs_background": "light"
     },
     "output_type": "display_data"
    }
   ],
   "source": [
    "plt.figure(figsize=(10, 7))\n",
    "sns.violinplot(x='customer_type',\n",
    "               y='gross_inc',\n",
    "               hue=\"gender\",\n",
    "               data=df_filt,\n",
    "               palette=\"muted\",\n",
    "               split=True)\n",
    "plt.xlabel('Customer Type')\n",
    "plt.ylabel(\"Groos Income\")\n",
    "plt.title(\"Total Gross Income\")\n",
    "plt.show()"
   ]
  },
  {
   "cell_type": "markdown",
   "id": "f964dfcd",
   "metadata": {},
   "source": [
    "##### Members and non-members have a similar distribution when viewed based on the gross income of each customer gender group"
   ]
  },
  {
   "cell_type": "markdown",
   "id": "a896f055",
   "metadata": {},
   "source": [
    "## Insights"
   ]
  },
  {
   "cell_type": "markdown",
   "id": "0c680df7",
   "metadata": {},
   "source": [
    "1. Promotions can be done for groups of members and non-members of each gender because they have the same distribution.\n",
    "2. If you want to increase the number of members, there are still many normal customers (non-members) that can be influenced."
   ]
  },
  {
   "cell_type": "markdown",
   "id": "3db8b6b8",
   "metadata": {},
   "source": [
    "#### Convert Data Frame to CSV for Data Dashboard"
   ]
  },
  {
   "cell_type": "code",
   "execution_count": 30,
   "id": "a3facfc2",
   "metadata": {
    "ExecuteTime": {
     "end_time": "2021-07-26T17:56:10.410712Z",
     "start_time": "2021-07-26T17:56:10.361842Z"
    }
   },
   "outputs": [],
   "source": [
    "df_filt.to_csv('supermarket_sales_clean.csv', index=False)"
   ]
  },
  {
   "cell_type": "code",
   "execution_count": null,
   "id": "c1bd8f11",
   "metadata": {},
   "outputs": [],
   "source": []
  }
 ],
 "metadata": {
  "kernelspec": {
   "display_name": "Python 3",
   "language": "python",
   "name": "python3"
  },
  "language_info": {
   "codemirror_mode": {
    "name": "ipython",
    "version": 3
   },
   "file_extension": ".py",
   "mimetype": "text/x-python",
   "name": "python",
   "nbconvert_exporter": "python",
   "pygments_lexer": "ipython3",
   "version": "3.8.1"
  }
 },
 "nbformat": 4,
 "nbformat_minor": 5
}
